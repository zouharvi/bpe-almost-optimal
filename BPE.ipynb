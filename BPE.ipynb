{
 "cells": [
  {
   "cell_type": "markdown",
   "id": "b72ba349",
   "metadata": {},
   "source": [
    "# Efficient Byte-Pair Encoding Algorithms"
   ]
  },
  {
   "cell_type": "markdown",
   "id": "59e24538",
   "metadata": {},
   "source": [
    "Byte pair encoding example\n",
    "Suppose the data to be encoded is\n",
    "\n",
    "`aaabdaaabac`\n",
    "\n",
    "The byte pair \"aa\" occurs most often, so it will be replaced by a byte that is not used in the data, \"Z\". Now there is the following data and replacement table:\n",
    "\n",
    "`ZabdZabac`\n",
    "\n",
    "```\n",
    "Z -> aa\n",
    "```\n",
    "\n",
    "Then the process is repeated with byte pair \"ab\", replacing it with Y:\n",
    "\n",
    "`ZYdZYac`\n",
    "\n",
    "```\n",
    "Y -> ab\n",
    "Z -> aa\n",
    "```\n",
    "\n",
    "The only literal byte pair left occurs only once, and the encoding might stop here. Or the process could continue with recursive byte pair encoding, replacing \"ZY\" with \"X\":\n",
    "\n",
    "`XdXac`\n",
    "\n",
    "```\n",
    "X -> ZY\n",
    "Y -> ab\n",
    "Z -> aa\n",
    "```"
   ]
  },
  {
   "cell_type": "markdown",
   "id": "b25a8898",
   "metadata": {},
   "source": [
    "References:\n",
    "\n",
    "- [Neural Machine Translation of Rare Words with Subword Units](https://aclanthology.org/P16-1162.pdf)\n",
    "\n",
    "- https://en.wikipedia.org/wiki/Byte_pair_encoding\n",
    "\n",
    "- https://www.derczynski.com/papers/archive/BPE_Gage.pdf\n"
   ]
  },
  {
   "cell_type": "markdown",
   "id": "a6307d35",
   "metadata": {},
   "source": [
    "Data:\n",
    "- https://s3.amazonaws.com/research.metamind.io/wikitext/wikitext-2-v1.zip"
   ]
  },
  {
   "cell_type": "code",
   "execution_count": 1,
   "id": "19ca4d4b",
   "metadata": {},
   "outputs": [],
   "source": [
    "%load_ext autoreload\n",
    "%autoreload 2"
   ]
  },
  {
   "cell_type": "code",
   "execution_count": 2,
   "id": "3c7fcb45",
   "metadata": {},
   "outputs": [],
   "source": [
    "from arsenal import Integerizer, colors, iterview, timeit, timers\n",
    "from arsenal.iterextras import flatten, take, window\n",
    "from collections import Counter, defaultdict\n",
    "from pprint import pprint\n",
    "from bpe import FastBPE, SlowBPE, merge"
   ]
  },
  {
   "cell_type": "code",
   "execution_count": 3,
   "id": "e24d4b4d",
   "metadata": {},
   "outputs": [],
   "source": [
    "xs = list('aaaabdaaabac')"
   ]
  },
  {
   "cell_type": "code",
   "execution_count": null,
   "id": "972cd696",
   "metadata": {},
   "outputs": [],
   "source": [
    "FastBPE(xs).to_graph().graphviz({'rankdir': 'LR'})"
   ]
  },
  {
   "cell_type": "code",
   "execution_count": null,
   "id": "aa82154d",
   "metadata": {},
   "outputs": [],
   "source": [
    "FastBPE(xs).merge(('a', 'a')).to_graph().graphviz({'rankdir': 'LR'})"
   ]
  },
  {
   "cell_type": "code",
   "execution_count": null,
   "id": "0f4c00f4",
   "metadata": {},
   "outputs": [],
   "source": [
    "FastBPE(xs).merge(('a','a')).merge((('a','a'), 'b')).to_graph().graphviz({'rankdir': 'LR'})"
   ]
  },
  {
   "cell_type": "code",
   "execution_count": null,
   "id": "73f6f1d5",
   "metadata": {},
   "outputs": [],
   "source": [
    "def _reference(xs):\n",
    "    if len(xs) <= 1: return xs\n",
    "    c = Counter(window(xs, 2))\n",
    "    pair, _ = c.most_common()[0]\n",
    "    return merge(xs, pair)"
   ]
  },
  {
   "cell_type": "code",
   "execution_count": null,
   "id": "aef5e717",
   "metadata": {},
   "outputs": [],
   "source": [
    "_reference(xs)"
   ]
  },
  {
   "cell_type": "code",
   "execution_count": null,
   "id": "68ec458a",
   "metadata": {},
   "outputs": [],
   "source": [
    "ys = _reference(_reference(_reference(xs)))\n",
    "assert xs == list(flatten(xs))\n",
    "ys"
   ]
  },
  {
   "cell_type": "code",
   "execution_count": null,
   "id": "052c09bb",
   "metadata": {},
   "outputs": [],
   "source": [
    "def greedy(xs, T=None):\n",
    "    old = xs\n",
    "    t = 0\n",
    "    while True:\n",
    "        t += 1\n",
    "        if T is not None and t > T: break\n",
    "        new = _reference(old)\n",
    "        if old == new: break\n",
    "        old = new\n",
    "    return old"
   ]
  },
  {
   "cell_type": "code",
   "execution_count": null,
   "id": "966971ef",
   "metadata": {},
   "outputs": [],
   "source": [
    "assert greedy(xs, 1) == _reference(xs)\n",
    "assert greedy(xs, 2) == _reference(_reference(xs))"
   ]
  },
  {
   "cell_type": "code",
   "execution_count": null,
   "id": "639a1e25",
   "metadata": {},
   "outputs": [],
   "source": [
    "def possible_splits(xs):\n",
    "    if len(xs) <= 1:\n",
    "        yield xs\n",
    "        return    \n",
    "    c = Counter(window(xs, 2))\n",
    "    for pair in sorted(c, key=c.__getitem__, reverse=True):\n",
    "#        if c[pair] <= 1: continue   # drop pairs with count <= 1\n",
    "        yield merge(xs, pair)"
   ]
  },
  {
   "cell_type": "code",
   "execution_count": null,
   "id": "804e9b25",
   "metadata": {},
   "outputs": [],
   "source": [
    "def beam_search(xs, T, B):\n",
    "    beam = [xs]\n",
    "#    for t in iterview(range(T), transient=True):\n",
    "    for t in range(T):\n",
    "        bs = beam + [ys for xs in beam for ys in take(B, possible_splits(xs))]\n",
    "#        bs = [ys for xs in beam for ys in take(B, possible_splits(xs))]\n",
    "#        bs = [ys for xs in beam for ys in possible_splits(xs)]\n",
    "        beam = sorted(bs, key=len)[:B]\n",
    "    return min(beam, key=len)"
   ]
  },
  {
   "cell_type": "code",
   "execution_count": null,
   "id": "df0e7a7a",
   "metadata": {},
   "outputs": [],
   "source": [
    "assert beam_search(xs, 5, 1) == greedy(xs, 5)"
   ]
  },
  {
   "cell_type": "code",
   "execution_count": null,
   "id": "177c89d9",
   "metadata": {},
   "outputs": [],
   "source": [
    "def plot(xs):\n",
    "    for T in [50]:\n",
    "        Bs = [2**i for i in range(0, 6)]\n",
    "        size_b = [len(beam_search(xs, T, B)) for B in Bs]\n",
    "        pl.plot(Bs, size_b, label=f'T={T}');"
   ]
  },
  {
   "cell_type": "code",
   "execution_count": null,
   "id": "4c61d8db",
   "metadata": {},
   "outputs": [],
   "source": [
    "import random"
   ]
  },
  {
   "cell_type": "code",
   "execution_count": null,
   "id": "6dd9ffd5",
   "metadata": {},
   "outputs": [],
   "source": [
    "#for _ in range(5):\n",
    "xs = ''.join(random.choice('ab') for _ in range(1000))\n",
    "plot(xs)\n",
    "pl.ylabel('size'); pl.xlabel('beam size');"
   ]
  },
  {
   "cell_type": "code",
   "execution_count": null,
   "id": "e34556e9",
   "metadata": {},
   "outputs": [],
   "source": [
    "# def agenda_loop(xs, B):\n",
    "#     agenda = [xs]\n",
    "#     while agenda:\n",
    "#         agenda = sorted(agenda, key=len)[:B]\n",
    "#         xs = agenda.pop(0)\n",
    "#         yield xs\n",
    "#         agenda.extend(possible_splits(xs))\n",
    "\n",
    "# T = 1000\n",
    "\n",
    "# pl.plot(range(1,T+1), list(map(len, take(T, agenda_loop(xs, None)))))\n",
    "# pl.plot(range(1,T+1), list(map(len, take(T, agenda_loop(xs, B=1)))));"
   ]
  },
  {
   "cell_type": "code",
   "execution_count": null,
   "id": "389ab5aa",
   "metadata": {},
   "outputs": [],
   "source": []
  },
  {
   "cell_type": "code",
   "execution_count": null,
   "id": "2a3ded4e",
   "metadata": {},
   "outputs": [],
   "source": []
  },
  {
   "cell_type": "code",
   "execution_count": 4,
   "id": "cb2b4894",
   "metadata": {},
   "outputs": [],
   "source": [
    "xs = open('/home/timv/Downloads/wikitext-2-v1/wikitext-2/wiki.train.tokens').read()[:10000]"
   ]
  },
  {
   "cell_type": "code",
   "execution_count": null,
   "id": "a4e80e4a",
   "metadata": {},
   "outputs": [],
   "source": []
  },
  {
   "cell_type": "code",
   "execution_count": 8,
   "id": "640d28c1",
   "metadata": {},
   "outputs": [],
   "source": []
  },
  {
   "cell_type": "code",
   "execution_count": 9,
   "id": "3876281c",
   "metadata": {},
   "outputs": [],
   "source": []
  },
  {
   "cell_type": "code",
   "execution_count": null,
   "id": "3da4d9a4",
   "metadata": {},
   "outputs": [],
   "source": []
  },
  {
   "cell_type": "code",
   "execution_count": null,
   "id": "ce6808a3",
   "metadata": {},
   "outputs": [],
   "source": []
  }
 ],
 "metadata": {
  "kernelspec": {
   "display_name": "Python 3 (ipykernel)",
   "language": "python",
   "name": "python3"
  },
  "language_info": {
   "codemirror_mode": {
    "name": "ipython",
    "version": 3
   },
   "file_extension": ".py",
   "mimetype": "text/x-python",
   "name": "python",
   "nbconvert_exporter": "python",
   "pygments_lexer": "ipython3",
   "version": "3.8.13"
  },
  "toc": {
   "base_numbering": 1,
   "nav_menu": {},
   "number_sections": true,
   "sideBar": true,
   "skip_h1_title": false,
   "title_cell": "Table of Contents",
   "title_sidebar": "Contents",
   "toc_cell": false,
   "toc_position": {},
   "toc_section_display": true,
   "toc_window_display": false
  }
 },
 "nbformat": 4,
 "nbformat_minor": 5
}
